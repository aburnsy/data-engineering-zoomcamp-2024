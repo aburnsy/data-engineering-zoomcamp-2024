{
 "cells": [
  {
   "cell_type": "code",
   "execution_count": 4,
   "metadata": {},
   "outputs": [
    {
     "name": "stdout",
     "output_type": "stream",
     "text": [
      "8.382332347441762\n",
      "3.605551275463989\n"
     ]
    }
   ],
   "source": [
    "def square_root_generator(limit): \n",
    "    n = 1 \n",
    "    while n <= limit: \n",
    "        yield n ** 0.5 \n",
    "        n += 1 \n",
    "\n",
    "running_sum = 0\n",
    "generator = square_root_generator(5) \n",
    "for sqrt_value in generator: \n",
    "    running_sum += sqrt_value\n",
    "print(running_sum)\n",
    "\n",
    "generator = square_root_generator(13) \n",
    "for sqrt_value in generator: \n",
    "    pass\n",
    "print(sqrt_value)"
   ]
  },
  {
   "cell_type": "code",
   "execution_count": 1,
   "metadata": {},
   "outputs": [],
   "source": [
    "%%capture\n",
    "%pip install dlt[duckdb]\n",
    "%pip install numpy\n",
    "%pip install pandas"
   ]
  },
  {
   "cell_type": "code",
   "execution_count": 3,
   "metadata": {},
   "outputs": [
    {
     "name": "stdout",
     "output_type": "stream",
     "text": [
      "{'ID': 1, 'Name': 'Person_1', 'Age': 26, 'City': 'City_A'}\n",
      "{'ID': 2, 'Name': 'Person_2', 'Age': 27, 'City': 'City_A'}\n",
      "{'ID': 3, 'Name': 'Person_3', 'Age': 28, 'City': 'City_A'}\n",
      "{'ID': 4, 'Name': 'Person_4', 'Age': 29, 'City': 'City_A'}\n",
      "{'ID': 5, 'Name': 'Person_5', 'Age': 30, 'City': 'City_A'}\n",
      "{'ID': 3, 'Name': 'Person_3', 'Age': 33, 'City': 'City_B', 'Occupation': 'Job_3'}\n",
      "{'ID': 4, 'Name': 'Person_4', 'Age': 34, 'City': 'City_B', 'Occupation': 'Job_4'}\n",
      "{'ID': 5, 'Name': 'Person_5', 'Age': 35, 'City': 'City_B', 'Occupation': 'Job_5'}\n",
      "{'ID': 6, 'Name': 'Person_6', 'Age': 36, 'City': 'City_B', 'Occupation': 'Job_6'}\n",
      "{'ID': 7, 'Name': 'Person_7', 'Age': 37, 'City': 'City_B', 'Occupation': 'Job_7'}\n",
      "{'ID': 8, 'Name': 'Person_8', 'Age': 38, 'City': 'City_B', 'Occupation': 'Job_8'}\n"
     ]
    }
   ],
   "source": [
    "def people_1(): \n",
    "    for i in range(1, 6): \n",
    "        yield {\"ID\": i, \"Name\": f\"Person_{i}\", \"Age\": 25 + i, \"City\": \"City_A\"} \n",
    "for person in people_1(): \n",
    "    print(person) \n",
    "\n",
    "def people_2(): \n",
    "    for i in range(3, 9): \n",
    "        yield {\"ID\": i, \"Name\": f\"Person_{i}\", \"Age\": 30 + i, \"City\": \"City_B\", \"Occupation\": f\"Job_{i}\"} \n",
    "for person in people_2():\n",
    "    print(person)"
   ]
  },
  {
   "cell_type": "code",
   "execution_count": null,
   "metadata": {},
   "outputs": [],
   "source": [
    "import dlt\n",
    "import duckdb\n",
    "\n",
    "people_pipeline = dlt.pipeline(destination='duckdb', dataset_name='people')\n",
    "\n",
    "info = people_pipeline.run(people_1(), table_name='people', write_disposition='replace')\n",
    "conn = duckdb.connect(f\"{people_pipeline.pipeline_name}.duckdb\")\n",
    "conn.sql(f\"SET search_path = '{people_pipeline.dataset_name}'\")\n",
    "display(conn.sql(\"SELECT sum(age) FROM people\"))\n",
    "\n",
    "info = people_pipeline.run(people_2(), table_name='people', write_disposition='append')\n",
    "display(conn.sql(\"SELECT sum(age) FROM people\"))"
   ]
  },
  {
   "cell_type": "code",
   "execution_count": 9,
   "metadata": {},
   "outputs": [
    {
     "name": "stdout",
     "output_type": "stream",
     "text": [
      "┌──────────┐\n",
      "│ sum(age) │\n",
      "│  int128  │\n",
      "├──────────┤\n",
      "│      266 │\n",
      "└──────────┘\n",
      "\n",
      "┌───────┬──────────┬───────┬─────────┬────────────────────┬────────────────┬────────────┐\n",
      "│  id   │   name   │  age  │  city   │    _dlt_load_id    │    _dlt_id     │ occupation │\n",
      "│ int64 │ varchar  │ int64 │ varchar │      varchar       │    varchar     │  varchar   │\n",
      "├───────┼──────────┼───────┼─────────┼────────────────────┼────────────────┼────────────┤\n",
      "│     1 │ Person_1 │    26 │ City_A  │ 1707922178.9926457 │ WMMldwQFzmpXUA │ NULL       │\n",
      "│     2 │ Person_2 │    27 │ City_A  │ 1707922178.9926457 │ leo9fmKc2MTNbw │ NULL       │\n",
      "│     3 │ Person_3 │    33 │ City_B  │ 1707922179.6415997 │ zwAJ/TW3qlJkAg │ Job_3      │\n",
      "│     4 │ Person_4 │    34 │ City_B  │ 1707922179.6415997 │ K+nAJgQitl64hQ │ Job_4      │\n",
      "│     5 │ Person_5 │    35 │ City_B  │ 1707922179.6415997 │ mWWXkADPLaRlsQ │ Job_5      │\n",
      "│     6 │ Person_6 │    36 │ City_B  │ 1707922179.6415997 │ 86oEo7TFD0onvw │ Job_6      │\n",
      "│     7 │ Person_7 │    37 │ City_B  │ 1707922179.6415997 │ rIEhCwnS3wRZgA │ Job_7      │\n",
      "│     8 │ Person_8 │    38 │ City_B  │ 1707922179.6415997 │ lT1oM86dKykieA │ Job_8      │\n",
      "└───────┴──────────┴───────┴─────────┴────────────────────┴────────────────┴────────────┘\n",
      "\n"
     ]
    }
   ],
   "source": [
    "import dlt\n",
    "\n",
    "people_pipeline = dlt.pipeline(destination='duckdb', dataset_name='people2')\n",
    "people_pipeline.run(people_1(), table_name='people2', write_disposition='replace', primary_key='ID')\n",
    "people_pipeline.run(people_2(), table_name='people2', write_disposition='merge', primary_key='ID')\n",
    "\n",
    "conn = duckdb.connect(f\"{people_pipeline.pipeline_name}.duckdb\")\n",
    "conn.sql(f\"SET search_path = '{people_pipeline.dataset_name}'\")\n",
    "print(conn.sql(\"SELECT sum(age) FROM people2\"))\n",
    "\n",
    "# print(conn.sql(\"SELECT * FROM people2 ORDER BY id\"))"
   ]
  }
 ],
 "metadata": {
  "kernelspec": {
   "display_name": ".venv",
   "language": "python",
   "name": "python3"
  },
  "language_info": {
   "codemirror_mode": {
    "name": "ipython",
    "version": 3
   },
   "file_extension": ".py",
   "mimetype": "text/x-python",
   "name": "python",
   "nbconvert_exporter": "python",
   "pygments_lexer": "ipython3",
   "version": "3.11.8"
  }
 },
 "nbformat": 4,
 "nbformat_minor": 2
}
